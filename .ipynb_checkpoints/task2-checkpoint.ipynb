{
 "cells": [
  {
   "cell_type": "markdown",
   "metadata": {},
   "source": [
    "### Упражнение 1\n",
    "\n",
    "На одном графике изобразите время затраченное на вычисление с использованием массивов numpy и стандартных списков в питоне.  \n",
    "Для более точных результатов замеряйте время выполнения функции несколько раз и усредняйте. \n",
    "* Используйте функцию `z = 2*x**2 + 4*y`\n",
    "* Перемножение матриц размера n на n"
   ]
  },
  {
   "cell_type": "code",
   "execution_count": 4,
   "metadata": {},
   "outputs": [
    {
     "name": "stdout",
     "output_type": "stream",
     "text": [
      "Numpy is in this example 0.20408163265306123 times faster!\n"
     ]
    }
   ],
   "source": [
    "import numpy as np\n",
    "import time\n",
    "import matplotlib.pyplot as plt\n",
    "%matplotlib inline \n",
    "\n",
    "size_of_vec = 10\n",
    "\n",
    "def python():\n",
    "    start = time.time()\n",
    "    X = range(size_of_vec)\n",
    "    Y = range(size_of_vec)\n",
    "    Z = [X[i] + Y[i] for i in range(len(X))]\n",
    "    return time.time() - start\n",
    "\n",
    "def numpy():\n",
    "    start = time.time()\n",
    "    X = np.arange(size_of_vec)\n",
    "    Y = np.arange(size_of_vec)\n",
    "    Z = X + Y\n",
    "    return time.time() - start\n",
    "\n",
    "print(\"Numpy is in this example {} times faster!\".format(python() / numpy()))\n",
    "\n"
   ]
  },
  {
   "cell_type": "markdown",
   "metadata": {},
   "source": [
    "### Упражнение 2\n",
    "* Создайте массив чисел от 2 до 75. Выведите только нечётные. \n",
    "* Присвойте нечётным числам этого массива значение -1.\n",
    "\n"
   ]
  },
  {
   "cell_type": "code",
   "execution_count": 12,
   "metadata": {},
   "outputs": [
    {
     "data": {
      "text/plain": [
       "array([ 2, -1,  4, -1,  6, -1,  8, -1, 10, -1, 12, -1, 14, -1, 16, -1, 18,\n",
       "       -1, 20, -1, 22, -1, 24, -1, 26, -1, 28, -1, 30, -1, 32, -1, 34, -1,\n",
       "       36, -1, 38, -1, 40, -1, 42, -1, 44, -1, 46, -1, 48, -1, 50, -1, 52,\n",
       "       -1, 54, -1, 56, -1, 58, -1, 60, -1, 62, -1, 64, -1, 66, -1, 68, -1,\n",
       "       70, -1, 72, -1, 74, -1])"
      ]
     },
     "execution_count": 12,
     "metadata": {},
     "output_type": "execute_result"
    }
   ],
   "source": [
    "A = np.arange(2, 76)\n",
    "A[1::2]\n",
    "A[1::2] = -1\n",
    "A"
   ]
  },
  {
   "cell_type": "markdown",
   "metadata": {},
   "source": [
    "### Упражнение 3\n",
    "\n",
    "* Найдите в документации функцию, которая удаляет из одного массива элементы, которые есть в другом. \n",
    "* Приведите примеры использования."
   ]
  },
  {
   "cell_type": "markdown",
   "metadata": {},
   "source": [
    "### Упражнение 4\n",
    "\n",
    "* Создайте случайную квадратную матрицу случайного размера от 10 до 100. \n",
    "* Найдите максимум и сумму элементов.\n",
    "* Поделите каждый элемент матрицы на максимум.\n",
    "* Отнимите от каждой строки матрицы среднее по строке.\n",
    "* Замените максимальное значение на -1."
   ]
  },
  {
   "cell_type": "markdown",
   "metadata": {},
   "source": [
    "### Упражнение 5\n",
    "* Напишите функцию, которая берет многомерный вещественный массив с пропущенными значениями (np.nan) и возвращает его копию с заполненными пропусками (заменять средним значением всех элементов массива). Если в массиве одни пропущенные значения, заполните их нулями."
   ]
  },
  {
   "cell_type": "markdown",
   "metadata": {},
   "source": [
    "### Упражнение 6\n",
    "* Напишите функцию которая нормализирует заданный numpy-массив, так чтобы его значения лежали в интервале $[0, 1]$."
   ]
  },
  {
   "cell_type": "markdown",
   "metadata": {},
   "source": [
    "### Упражнение 7\n",
    "* Запишите numpy-array в файл.\n",
    "* Считайте numpy-array из файла."
   ]
  },
  {
   "cell_type": "markdown",
   "metadata": {},
   "source": [
    "### Упражнение 8\n",
    "* Создайте случайный массив\n",
    "* Найдите в массиве элемент ближайший к данному"
   ]
  },
  {
   "cell_type": "markdown",
   "metadata": {},
   "source": [
    "### Упражнение 9"
   ]
  },
  {
   "cell_type": "markdown",
   "metadata": {},
   "source": [
    "* Напишите функцию, которая возвращает  $n \\times m$ целочисленную матрицу с заданным значением на границах матрицы и с заданным значением внутри"
   ]
  },
  {
   "cell_type": "markdown",
   "metadata": {},
   "source": [
    "### Упражнение 10\n",
    "* Напишите функцию, которая сортирует строки данной матрицы по значениям заданного столбца в порядке убывания. "
   ]
  },
  {
   "cell_type": "markdown",
   "metadata": {},
   "source": [
    "### Упражнение 11\n",
    "\n",
    "* Напишите функцию, которая создает двоичную матрицу шахматной доски с заданным shape\n",
    "\n",
    "Пример 4x4:\n",
    "```python\n",
    "[[0, 1, 0, 1],\n",
    " [1, 0, 1, 0],\n",
    " [0, 1, 0, 1],\n",
    " [1, 0, 1, 0]]\n",
    "```"
   ]
  },
  {
   "cell_type": "markdown",
   "metadata": {},
   "source": [
    "### Упражнение 12\n",
    "* Напишите игру [life](https://en.wikipedia.org/wiki/Conway%27s_Game_of_Life), используя массивы numpy.\n",
    "* Визуализируйте интерактивно ее результаты.\n",
    "\n"
   ]
  }
 ],
 "metadata": {
  "kernelspec": {
   "display_name": "Python 3",
   "language": "python",
   "name": "python3"
  },
  "language_info": {
   "codemirror_mode": {
    "name": "ipython",
    "version": 3
   },
   "file_extension": ".py",
   "mimetype": "text/x-python",
   "name": "python",
   "nbconvert_exporter": "python",
   "pygments_lexer": "ipython3",
   "version": "3.8.10"
  }
 },
 "nbformat": 4,
 "nbformat_minor": 2
}
